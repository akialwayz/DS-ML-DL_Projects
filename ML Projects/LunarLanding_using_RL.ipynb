{
  "cells": [
    {
      "cell_type": "code",
      "execution_count": null,
      "id": "5dbee6d2",
      "metadata": {
        "id": "5dbee6d2"
      },
      "outputs": [],
      "source": [
        "#Installing Necessary Dependancies\n",
        "!apt install swig cmake\n",
        "!pip install -r https://huggingface.co/spaces/ThomasSimonini/temp-space-requirements/raw/main/requirements/requirements-unit1.txt\n",
        "    \n",
        "#Install Packagess for rendering the scene\n",
        "!sudo apt-get update\n",
        "!apt install python-opengl\n",
        "!apt install ffmpeg\n",
        "!apt install xvfb\n",
        "!pip3 install pyvirtualdisplay"
      ]
    },
    {
      "cell_type": "code",
      "execution_count": null,
      "id": "145948f5",
      "metadata": {
        "id": "145948f5"
      },
      "outputs": [],
      "source": [
        "# Kill Server To get Render to work\n",
        "import os\n",
        "os.kill(os.getpid(), 9)"
      ]
    },
    {
      "cell_type": "code",
      "execution_count": null,
      "id": "5d3a1606",
      "metadata": {
        "id": "5d3a1606"
      },
      "outputs": [],
      "source": [
        "# Virtual display\n",
        "from pyvirtualdisplay import Display\n",
        "\n",
        "virtual_display = Display(visible=0, size=(1400, 900))\n",
        "virtual_display.start()"
      ]
    },
    {
      "cell_type": "code",
      "execution_count": null,
      "id": "9ce8309f",
      "metadata": {
        "id": "9ce8309f"
      },
      "outputs": [],
      "source": [
        "# Importing all dependancies\n",
        "import gym\n",
        "\n",
        "from huggingface_sb3 import load_from_hub, package_to_hub, push_to_hub\n",
        "from huggingface_hub import notebook_login # To log into Hugging Face account to be able to upload models to the Hub.\n",
        "\n",
        "from stable_baselines3 import PPO\n",
        "from stable_baselines3.common.evaluation import evaluate_policy\n",
        "from stable_baselines3.common.env_util import make_vec_env"
      ]
    },
    {
      "cell_type": "code",
      "source": [
        "import gym\n",
        "\n",
        "# First, we create our environment called LunarLander-v2\n",
        "env = gym.make(\"LunarLander-v2\")\n",
        "\n",
        "# Then we reset this environment\n",
        "observation = env.reset()\n",
        "\n",
        "for _ in range(20):\n",
        "  # Take a random action\n",
        "  action = env.action_space.sample()\n",
        "  print(\"Action taken:\", action)\n",
        "\n",
        "  # Do this action in the environment and get\n",
        "  # next_state, reward, done and info\n",
        "  observation, reward, done, info = env.step(action)\n",
        "  \n",
        "  # If the game is done (in our case we land, crashed or timeout)\n",
        "  if done:\n",
        "      # Reset the environment\n",
        "      print(\"Environment is reset\")\n",
        "      observation = env.reset()"
      ],
      "metadata": {
        "id": "eSqkMyBFzUdU"
      },
      "id": "eSqkMyBFzUdU",
      "execution_count": null,
      "outputs": []
    },
    {
      "cell_type": "code",
      "source": [
        "# We create our environment with gym.make(\"<name_of_the_environment>\")\n",
        "env = gym.make(\"LunarLander-v2\")\n",
        "env.reset()\n",
        "print(\"_____OBSERVATION SPACE_____ \\n\")\n",
        "print(\"Observation Space Shape\", env.observation_space.shape)\n",
        "print(\"Sample observation\", env.observation_space.sample()) # Get a random observation\n",
        "\n",
        "print(\"\\n _____ACTION SPACE_____ \\n\")\n",
        "print(\"Action Space Shape\", env.action_space.n)\n",
        "print(\"Action Space Sample\", env.action_space.sample()) # Take a random action"
      ],
      "metadata": {
        "id": "_bu8e9U0XdyV"
      },
      "id": "_bu8e9U0XdyV",
      "execution_count": null,
      "outputs": []
    },
    {
      "cell_type": "code",
      "source": [
        "# Create the environment\n",
        "env = make_vec_env('LunarLander-v2', n_envs=16)"
      ],
      "metadata": {
        "id": "Dh2gF3MQ2IXq"
      },
      "id": "Dh2gF3MQ2IXq",
      "execution_count": null,
      "outputs": []
    },
    {
      "cell_type": "code",
      "source": [
        "# We added some parameters to accelerate the training\n",
        "model = PPO(\n",
        "    policy = 'MlpPolicy',\n",
        "    env = env,\n",
        "    n_steps = 2048,\n",
        "    batch_size = 64,\n",
        "    n_epochs = 10,\n",
        "    gamma = 0.999,\n",
        "    gae_lambda = 0.98,\n",
        "    ent_coef = 0.01,\n",
        "    verbose=1)"
      ],
      "metadata": {
        "id": "sAG9wGGeh_pO"
      },
      "id": "sAG9wGGeh_pO",
      "execution_count": null,
      "outputs": []
    },
    {
      "cell_type": "code",
      "source": [
        "# Train it for 1,000,000 timesteps\n",
        "model.learn(total_timesteps=1790000)\n",
        "# Save the model\n",
        "model_name = \"akilsver_ppo-LunarLander-v2\"\n",
        "model.save(model_name)"
      ],
      "metadata": {
        "id": "ZGtSqhkEX6Je"
      },
      "id": "ZGtSqhkEX6Je",
      "execution_count": null,
      "outputs": []
    },
    {
      "cell_type": "code",
      "source": [
        "# Evaluation or model\n",
        "eval_env = gym.make(\"LunarLander-v2\")\n",
        "mean_reward, std_reward = evaluate_policy(model, eval_env, n_eval_episodes=60, deterministic=True)\n",
        "print(f\"mean_reward={mean_reward:.2f} +/- {std_reward}\")"
      ],
      "metadata": {
        "id": "Y7KB4eq8ZD9p"
      },
      "id": "Y7KB4eq8ZD9p",
      "execution_count": null,
      "outputs": []
    },
    {
      "cell_type": "code",
      "source": [
        "# Logining to HuggingFace to commit model\n",
        "notebook_login()\n",
        "!git config --global credential.helper store"
      ],
      "metadata": {
        "id": "TyJLwstOfysh"
      },
      "id": "TyJLwstOfysh",
      "execution_count": null,
      "outputs": []
    },
    {
      "cell_type": "code",
      "source": [
        "import gym\n",
        "\n",
        "from stable_baselines3 import PPO\n",
        "from stable_baselines3.common.vec_env import DummyVecEnv\n",
        "from stable_baselines3.common.env_util import make_vec_env\n",
        "\n",
        "from huggingface_sb3 import package_to_hub\n",
        "\n",
        "# PLACE the variables you've just defined two cells above\n",
        "# Define the name of the environment\n",
        "env_id = \"LunarLander-v2\"\n",
        "\n",
        "# TODO: Define the model architecture we used\n",
        "model_architecture = \"PPO\"\n",
        "\n",
        "## Define a repo_id\n",
        "## repo_id is the id of the model repository from the Hugging Face Hub (repo_id = {organization}/{repo_name} for instance \n",
        "## CHANGE WITH YOUR REPO ID\n",
        "repo_id = \"akialwayz/ppo-LunarLander-v2\" \n",
        "\n",
        "## Define the commit message\n",
        "commit_message = \"2nd Version of PPO LunarLander-v2 trained agent\"\n",
        "\n",
        "# Create the evaluation env\n",
        "eval_env = DummyVecEnv([lambda: gym.make(env_id)])\n",
        "\n",
        "# PLACE the package_to_hub function you've just filled here\n",
        "package_to_hub(model=model, # Our trained model\n",
        "               model_name=model_name, # The name of our trained model \n",
        "               model_architecture=model_architecture, # The model architecture we used: in our case PPO\n",
        "               env_id=env_id, # Name of the environment\n",
        "               eval_env=eval_env, # Evaluation Environment\n",
        "               repo_id=repo_id, # id of the model repository from the Hugging Face Hub (repo_id = {organization}/{repo_name} for instance \n",
        "               commit_message=commit_message)"
      ],
      "metadata": {
        "id": "eoGRrE-LgSdL"
      },
      "id": "eoGRrE-LgSdL",
      "execution_count": null,
      "outputs": []
    },
    {
      "cell_type": "code",
      "source": [
        "from huggingface_sb3 import load_from_hub\n",
        "repo_id = \"akialwayz/ppo-LunarLander-v2\" # The repo_id\n",
        "filename = \"akilsver_ppo-LunarLander-v2.zip\" # The model filename.zip\n",
        "\n",
        "# When the model was trained on Python 3.8 the pickle protocol is 5\n",
        "# But Python 3.6, 3.7 use protocol 4\n",
        "# In order to get compatibility we need to:\n",
        "# 1. Install pickle5 (we done it at the beginning of the colab)\n",
        "# 2. Create a custom empty object we pass as parameter to PPO.load()\n",
        "custom_objects = {\n",
        "            \"learning_rate\": 0.0,\n",
        "            \"lr_schedule\": lambda _: 0.0,\n",
        "            \"clip_range\": lambda _: 0.0,\n",
        "}\n",
        "\n",
        "checkpoint = load_from_hub(repo_id, filename)\n",
        "model = PPO.load(checkpoint, custom_objects=custom_objects, print_system_info=True)"
      ],
      "metadata": {
        "id": "hXLZnv-PgxNh"
      },
      "id": "hXLZnv-PgxNh",
      "execution_count": null,
      "outputs": []
    },
    {
      "cell_type": "code",
      "source": [
        "eval_env = gym.make(\"LunarLander-v2\")\n",
        "mean_reward, std_reward = evaluate_policy(model, eval_env, n_eval_episodes=10, deterministic=True)\n",
        "print(f\"mean_reward={mean_reward:.2f} +/- {std_reward}\")"
      ],
      "metadata": {
        "id": "WUlAEegJDe0y"
      },
      "id": "WUlAEegJDe0y",
      "execution_count": null,
      "outputs": []
    },
    {
      "cell_type": "code",
      "source": [],
      "metadata": {
        "id": "3qbf42ogD48L"
      },
      "id": "3qbf42ogD48L",
      "execution_count": null,
      "outputs": []
    }
  ],
  "metadata": {
    "kernelspec": {
      "display_name": "Python 3 (ipykernel)",
      "language": "python",
      "name": "python3"
    },
    "language_info": {
      "codemirror_mode": {
        "name": "ipython",
        "version": 3
      },
      "file_extension": ".py",
      "mimetype": "text/x-python",
      "name": "python",
      "nbconvert_exporter": "python",
      "pygments_lexer": "ipython3",
      "version": "3.10.8"
    },
    "colab": {
      "provenance": []
    },
    "accelerator": "GPU",
    "gpuClass": "standard"
  },
  "nbformat": 4,
  "nbformat_minor": 5
}